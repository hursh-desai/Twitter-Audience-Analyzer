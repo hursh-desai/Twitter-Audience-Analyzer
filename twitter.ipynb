{
 "cells": [
  {
   "cell_type": "code",
   "execution_count": 1,
   "metadata": {},
   "outputs": [],
   "source": [
    "import tweepy"
   ]
  },
  {
   "cell_type": "markdown",
   "metadata": {},
   "source": [
    "# OAuth Requirements\n",
    "Follow this tutorial in order to find consumer_key, consumer_secret, access_token, access_token_secret:  \n",
    "http://docs.tweepy.org/en/latest/auth_tutorial.html#auth-tutorial"
   ]
  },
  {
   "cell_type": "code",
   "execution_count": 2,
   "metadata": {},
   "outputs": [],
   "source": [
    "consumer_key = ''\n",
    "consumer_secret = ''\n",
    "access_token = ''\n",
    "access_token_secret = ''\n",
    "\n",
    "auth = tweepy.OAuthHandler(consumer_key, consumer_secret)\n",
    "auth.set_access_token(access_token, access_token_secret)\n",
    "api = tweepy.API(auth)"
   ]
  },
  {
   "cell_type": "code",
   "execution_count": 3,
   "metadata": {},
   "outputs": [],
   "source": [
    "username = 'hursheybars' #twitter username "
   ]
  },
  {
   "cell_type": "code",
   "execution_count": 4,
   "metadata": {},
   "outputs": [],
   "source": [
    "followers = api.followers_ids(username)\n",
    "following = api.friends_ids(username)"
   ]
  },
  {
   "cell_type": "code",
   "execution_count": 8,
   "metadata": {},
   "outputs": [],
   "source": [
    "# Returns list of people that you follow that don't follow you\n",
    "def get_gap():\n",
    "    gap = []\n",
    "    for f in following:\n",
    "        if f not in followers:\n",
    "            gap.append(api.get_user(f).screen_name)\n",
    "    return gap"
   ]
  },
  {
   "cell_type": "code",
   "execution_count": 18,
   "metadata": {},
   "outputs": [],
   "source": [
    "# Returns list of people you follow that have less liked tweets than specified number\n",
    "def likes_low():\n",
    "    unfollow = []\n",
    "    for f in following:\n",
    "        user = api.get_user(f)\n",
    "        if user.favourites_count < 7000:\n",
    "            unfollow.append(user.screen_name)\n",
    "    return unfollow"
   ]
  },
  {
   "cell_type": "code",
   "execution_count": 19,
   "metadata": {},
   "outputs": [],
   "source": [
    "# Returns list of people you follow that have less tweet activity than specified number\n",
    "def activity_low():\n",
    "    unfollow = []\n",
    "    for f in following:\n",
    "        user = api.get_user(f)\n",
    "        if user.statuses_count < 7000:\n",
    "            unfollow.append(user.screen_name)\n",
    "    return unfollow"
   ]
  },
  {
   "cell_type": "code",
   "execution_count": 33,
   "metadata": {},
   "outputs": [],
   "source": [
    "# Returns list of people that follow more people than follow them\n",
    "def ratio_off():\n",
    "    unfollow = []\n",
    "    for f in following:\n",
    "        user = api.get_user(f)\n",
    "        if user.friends_count - user.followers_count > 100:\n",
    "            unfollow.append(user.screen_name)\n",
    "    return unfollow"
   ]
  },
  {
   "cell_type": "code",
   "execution_count": 20,
   "metadata": {},
   "outputs": [],
   "source": [
    "list1 = likes_low()"
   ]
  },
  {
   "cell_type": "code",
   "execution_count": 23,
   "metadata": {},
   "outputs": [],
   "source": [
    "list2 = activity_low()"
   ]
  },
  {
   "cell_type": "code",
   "execution_count": null,
   "metadata": {},
   "outputs": [],
   "source": [
    "list3 = ratio_off()"
   ]
  },
  {
   "cell_type": "code",
   "execution_count": 27,
   "metadata": {},
   "outputs": [],
   "source": [
    "list4 = set(list1) & set(list2)"
   ]
  },
  {
   "cell_type": "code",
   "execution_count": null,
   "metadata": {},
   "outputs": [],
   "source": []
  }
 ],
 "metadata": {
  "kernelspec": {
   "display_name": "Python 3",
   "language": "python",
   "name": "python3"
  },
  "language_info": {
   "codemirror_mode": {
    "name": "ipython",
    "version": 3
   },
   "file_extension": ".py",
   "mimetype": "text/x-python",
   "name": "python",
   "nbconvert_exporter": "python",
   "pygments_lexer": "ipython3",
   "version": "3.7.3"
  }
 },
 "nbformat": 4,
 "nbformat_minor": 2
}
